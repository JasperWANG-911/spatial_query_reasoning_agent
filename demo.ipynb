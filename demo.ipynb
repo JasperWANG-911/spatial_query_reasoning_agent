{
 "cells": [
  {
   "cell_type": "code",
   "execution_count": null,
   "metadata": {},
   "outputs": [],
   "source": [
    "from Agent_calculate import SpatialMetricCalculationAgent\n",
    "from Agent_reference_detection import ReferenceDetectionAgent\n",
    "import json\n",
    "\n",
    "# initialize agents\n",
    "spatial_metric_calculation_agent = SpatialMetricCalculationAgent()\n",
    "reference_detect_agent = ReferenceDetectionAgent()\n"
   ]
  },
  {
   "cell_type": "code",
   "execution_count": null,
   "metadata": {},
   "outputs": [],
   "source": [
    "# image path and query as input\n",
    "image_path = \"../SPATIAL_METRIC_CALCULATION/demo_images/demo_P0038.png\""
   ]
  },
  {
   "cell_type": "code",
   "execution_count": null,
   "metadata": {},
   "outputs": [],
   "source": [
    "\n",
    "# Run the complete workflow\n",
    "\n",
    "\n",
    "query = \"What is scale of image, i.e. how many meters per pixel\"\n",
    "\n",
    "\n",
    "result = reference_detect_agent.run(image_path, query)\n",
    "print(f\"Final result: {json.dumps(result, indent=2)}\")"
   ]
  }
 ],
 "metadata": {
  "language_info": {
   "name": "python"
  }
 },
 "nbformat": 4,
 "nbformat_minor": 2
}
